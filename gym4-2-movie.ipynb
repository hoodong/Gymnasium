{
 "cells": [
  {
   "cell_type": "markdown",
   "id": "67d29268",
   "metadata": {},
   "source": [
    "CartPole에서 실시간 렌더링"
   ]
  },
  {
   "cell_type": "code",
   "execution_count": null,
   "id": "6e691de3",
   "metadata": {},
   "outputs": [],
   "source": [
    "import gymnasium as gym \n",
    "import time"
   ]
  },
  {
   "cell_type": "code",
   "execution_count": null,
   "id": "6ea42474",
   "metadata": {},
   "outputs": [
    {
     "name": "stdout",
     "output_type": "stream",
     "text": [
      "50\n"
     ]
    }
   ],
   "source": [
    "env = gym.make('CartPole-v1', render_mode='human')\n",
    "state, info = env.reset()\n",
    "\n",
    "render_fps = env.metadata.get(\"render_fps\", 30)\n",
    "print(render_fps)\n",
    "\n",
    "for _ in range(1000):\n",
    "    #action = 0 # always go left\n",
    "    action = env.action_space.sample()\n",
    "    state, reward, terminated, truncated, info = env.step(action)\n",
    "\n",
    "    #env.render()\n",
    "    time.sleep(1.0/render_fps)\n",
    "\n",
    "    if terminated or truncated:        \n",
    "        state, info = env.reset()\n",
    "\n",
    "env.close()"
   ]
  }
 ],
 "metadata": {
  "kernelspec": {
   "display_name": "base",
   "language": "python",
   "name": "python3"
  },
  "language_info": {
   "codemirror_mode": {
    "name": "ipython",
    "version": 3
   },
   "file_extension": ".py",
   "mimetype": "text/x-python",
   "name": "python",
   "nbconvert_exporter": "python",
   "pygments_lexer": "ipython3",
   "version": "3.13.0"
  }
 },
 "nbformat": 4,
 "nbformat_minor": 5
}
