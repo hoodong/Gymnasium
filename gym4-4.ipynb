{
 "cells": [
  {
   "cell_type": "markdown",
   "id": "f5b634ae",
   "metadata": {},
   "source": [
    "Multi-armed badit에서 여러 정책의 성능\n",
    "- 초기탐험-후기탐사 \n",
    "- $\\epsilon$-greedy\n",
    "- UCB\n",
    "\n",
    "Q. $\\epsilon = 0$일 때 $\\epsilon$-greedy의 이익이 너무 높게 나타남. c=0인 UCS도 마찬가지로 높게 나옴. \\\n",
    "사실 rate = 0인 초기탐험-후기탐사 정책과 동일하므로, 즉 탐험 없은 탐사정책이므로 순이익이 낮게 나와야 함.  \n",
    "A. visit 배열의 초기값을 1 대신 0으로 바꾸면 제대로 나옴"
   ]
  },
  {
   "cell_type": "code",
   "execution_count": null,
   "id": "85d72f25",
   "metadata": {},
   "outputs": [],
   "source": [
    "import numpy as np\n",
    "import matplotlib.pyplot as plt\n",
    "\n",
    "num_arms = 20\n",
    "arm_prob = [0.4+(np.random.random()-0.5)/2 for i in range(num_arms)] # uniform over [0.15, 0.65]\n",
    "num_pulls = 1000\n",
    "num_runs = 50\n",
    "\n",
    "print(arm_prob)"
   ]
  },
  {
   "cell_type": "code",
   "execution_count": 38,
   "id": "630ba5d6",
   "metadata": {},
   "outputs": [],
   "source": [
    "def simulate_pull_bandit(a, visit, win): # Simulate pulling the bandit arm\n",
    "    visit[a] += 1 # Increment the number of visits for the selected arm\n",
    "    win[a] += 1 if np.random.random() < arm_prob[a] else 0 # Increment the number of wins for the selected arm\n"
   ]
  },
  {
   "cell_type": "code",
   "execution_count": 39,
   "id": "440dcf03",
   "metadata": {},
   "outputs": [
    {
     "data": {
      "text/plain": [
       "(array([   0.,    0., 1000.,    0.,    0.,    0.,    0.,    0.,    0.,\n",
       "           0.,    0.,    0.,    0.,    0.,    0.,    0.,    0.,    0.,\n",
       "           0.,    0.]),\n",
       " array([  0.,   0., 549.,   0.,   0.,   0.,   0.,   0.,   0.,   0.,   0.,\n",
       "          0.,   0.,   0.,   0.,   0.,   0.,   0.,   0.,   0.]))"
      ]
     },
     "execution_count": 39,
     "metadata": {},
     "output_type": "execute_result"
    }
   ],
   "source": [
    "def exploration_and_exploitation(rate):\n",
    "    visit = np.zeros(num_arms)\n",
    "    win = np.zeros(num_arms)\n",
    "\n",
    "    # exploration\n",
    "    for t in range(int(num_pulls * rate)):\n",
    "        a = np.random.randint(num_arms)\n",
    "        simulate_pull_bandit(a, visit, win)\n",
    "\n",
    "    # exploitation\n",
    "    q = np.array([win[i]/visit[i] if visit[i] > 0 else 0 for i in range(num_arms)]) # action-value estimates\n",
    "    a = np.random.choice(np.where(q==np.max(q))[0]) # greedy action with tie-breaking\n",
    "    for t in range(num_pulls - int(num_pulls * rate)):\n",
    "        simulate_pull_bandit(a, visit, win)\n",
    "    return visit, win\n",
    "\n",
    "exploration_and_exploitation(0)\n"
   ]
  },
  {
   "cell_type": "code",
   "execution_count": 40,
   "id": "b0642b2d",
   "metadata": {},
   "outputs": [
    {
     "data": {
      "text/plain": [
       "(array([  0.,   0.,   0.,   0.,   0.,   0.,   0.,   0.,   0.,   0.,   0.,\n",
       "          0.,   0.,   1.,   0., 999.,   0.,   0.,   0.,   0.]),\n",
       " array([  0.,   0.,   0.,   0.,   0.,   0.,   0.,   0.,   0.,   0.,   0.,\n",
       "          0.,   0.,   0.,   0., 243.,   0.,   0.,   0.,   0.]))"
      ]
     },
     "execution_count": 40,
     "metadata": {},
     "output_type": "execute_result"
    }
   ],
   "source": [
    "def epsilon_greedy(epsilon):\n",
    "    visit = np.zeros(num_arms)\n",
    "    win = np.zeros(num_arms)\n",
    "    for t in range(num_pulls):\n",
    "        if np.random.random() < epsilon: # exploration\n",
    "            h = np.random.randint(0,num_arms) # random action\n",
    "        else: # exploitation\n",
    "            p = np.array([win[i] / visit[i] if visit[i] > 0 else 0 for i in range(num_arms)]) # action-value estimates\n",
    "            h = np.random.choice(np.where(p==np.max(p))[0]) # greedy action with tie-breaking\n",
    "        simulate_pull_bandit(h, visit, win) # simulate pulling the selected arm\n",
    "    return visit, win\n",
    "\n",
    "epsilon_greedy(0)"
   ]
  },
  {
   "cell_type": "code",
   "execution_count": 43,
   "id": "a94bc9f8",
   "metadata": {},
   "outputs": [
    {
     "data": {
      "text/plain": [
       "(array([  1.,   2.,   2.,   2.,   1.,   1.,   1.,   1.,   8., 970.,   1.,\n",
       "          1.,   1.,   2.,   1.,   1.,   1.,   1.,   1.,   1.]),\n",
       " array([  0.,   1.,   1.,   1.,   0.,   0.,   0.,   0.,   4., 582.,   0.,\n",
       "          0.,   0.,   1.,   0.,   0.,   0.,   0.,   0.,   0.]))"
      ]
     },
     "execution_count": 43,
     "metadata": {},
     "output_type": "execute_result"
    }
   ],
   "source": [
    "def UCB(c):\n",
    "    visit = np.zeros(num_arms)\n",
    "    win = np.zeros(num_arms)\n",
    "    for t in range(num_pulls):\n",
    "        p = np.array([win[i]/visit[i] + c * np.sqrt(np.log(t+1)/visit[i]) if visit[i] > 0 else np.inf for i in range(num_arms)])\n",
    "        h = np.random.choice(np.where(p==np.max(p))[0])\n",
    "        simulate_pull_bandit(h, visit, win)\n",
    "    return visit, win\n",
    "\n",
    "UCB(0)"
   ]
  },
  {
   "cell_type": "code",
   "execution_count": 42,
   "id": "68934c13",
   "metadata": {},
   "outputs": [
    {
     "name": "stdout",
     "output_type": "stream",
     "text": [
      "UCB: [ 139.44  145.6   159.4   149.4   142.72  134.68  -14.76 -139.96]\n"
     ]
    },
    {
     "data": {
      "image/png": "[encoded data removed]",
      "text/plain": [
       "<Figure size 640x480 with 1 Axes>"
      ]
     },
     "metadata": {},
     "output_type": "display_data"
    }
   ],
   "source": [
    "def box_plot_analysis(algorithm, hyper_param, alg_name):\n",
    "    net_profit = []\n",
    "    for param in hyper_param:\n",
    "        net = []\n",
    "        for k in range(num_runs):\n",
    "            visit, win = algorithm(param)\n",
    "            net.append(sum([2*win[i]-visit[i] for i in range(num_arms)]))\n",
    "        net_profit.append(net)\n",
    "    print(alg_name+':',np.mean(net_profit, axis=1))\n",
    "\n",
    "    plt.boxplot(net_profit)\n",
    "    plt.title(alg_name)\n",
    "    plt.xlabel('Hyperparameter')\n",
    "    plt.ylabel('Net Profit')\n",
    "    plt.grid()\n",
    "    plt.xticks(ticks=range(1, len(hyper_param)+1), labels=hyper_param)\n",
    "    plt.show()\n",
    "\n",
    "#box_plot_analysis(exploration_and_exploitation, [0.0,0.1,0.25,0.5,0.75,0.99,1.0], 'Exploration and Exploitation')\n",
    "#box_plot_analysis(epsilon_greedy, [0.0,0.1,0.2,0.3,0.4,0.5,0.6,0.7,0.8,0.9,1.0], 'Epsilon-Greedy')\n",
    "box_plot_analysis(UCB, [0,0.00001,0.0001,0.001,0.01,0.1,1.0,10.0], 'UCB')"
   ]
  }
 ],
 "metadata": {
  "kernelspec": {
   "display_name": "base",
   "language": "python",
   "name": "python3"
  },
  "language_info": {
   "codemirror_mode": {
    "name": "ipython",
    "version": 3
   },
   "file_extension": ".py",
   "mimetype": "text/x-python",
   "name": "python",
   "nbconvert_exporter": "python",
   "pygments_lexer": "ipython3",
   "version": "3.13.0"
  }
 },
 "nbformat": 4,
 "nbformat_minor": 5
}
