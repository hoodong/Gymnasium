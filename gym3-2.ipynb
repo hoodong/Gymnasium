{
 "cells": [
  {
   "cell_type": "markdown",
   "id": "2f42a8c2",
   "metadata": {},
   "source": [
    "3-2 FrozenLake에서 정책 반복"
   ]
  },
  {
   "cell_type": "code",
   "execution_count": 1,
   "id": "ec887f1f",
   "metadata": {},
   "outputs": [],
   "source": [
    "import gymnasium as gym\n",
    "import numpy as np"
   ]
  },
  {
   "cell_type": "code",
   "execution_count": null,
   "id": "e7c57754",
   "metadata": {},
   "outputs": [
    {
     "name": "stdout",
     "output_type": "stream",
     "text": [
      "최적정책\n",
      " [[1 2 1 0]\n",
      " [1 0 1 0]\n",
      " [2 1 1 0]\n",
      " [0 2 2 0]]\n",
      "최적 가치함수\n",
      "[[0.5905, 0.6561, 0.729 , 0.6561],\n",
      " [0.6561, 0.    , 0.81  , 0.    ],\n",
      " [0.729 , 0.81  , 0.9   , 0.    ],\n",
      " [0.    , 0.9   , 1.    , 0.    ]]\n"
     ]
    }
   ],
   "source": [
    "def policy_iteration(env, gamma=0.9):\n",
    "    V = np.zeros(env.observation_space.n)  # Initialize value function to zeros\n",
    "    #pi = [0 for i in range(env.observation_space.n)]  # Initialize policy to zeros\n",
    "    pi = np.zeros(env.observation_space.n) # Initialize policy to zeros\n",
    "    while True:\n",
    "        # E (policy evaluation)\n",
    "        while True: \n",
    "            delta = 0  # Track maximum change in value\n",
    "            for state in range(env.observation_space.n):  # For each state\n",
    "                action = pi[state]  # Action from current policy\n",
    "                state_prob, next_state, reward, done = env.P[state][action][0]\n",
    "                # Update value using Bellman equation\n",
    "                v = reward + gamma * V[next_state]\n",
    "                # Update maximum change\n",
    "                delta = max(delta, abs(v - V[state]))\n",
    "                V[state] = v  # Update value function\n",
    "            # Stop when value function changes very little\n",
    "            if delta < 1e-8:\n",
    "                break\n",
    "\n",
    "        # I (Policy improvement)\n",
    "        policy_stable = True\n",
    "        for state in range(env.observation_space.n):\n",
    "            old_action = pi[state]\n",
    "            q = np.zeros(env.action_space.n)\n",
    "            # Choose the action with the highest value\n",
    "            for action in range(env.action_space.n):\n",
    "                state_prob, next_state, reward, done = env.P[state][action][0]\n",
    "                q[action] = reward + gamma * V[next_state]\n",
    "            pi[state] = np.argmax(q)\n",
    "            if old_action != pi[state]:\n",
    "                policy_stable = False\n",
    "        if policy_stable:\n",
    "            break\n",
    "    return V, pi\n",
    "\n",
    "env = gym.make('FrozenLake-v1', render_mode='ansi', is_slippery=False)\n",
    "V, pi = policy_iteration(env)\n",
    "print('최적정책\\n', pi.astype(int).reshape(4,4))\n",
    "print('최적 가치함수\\n', np.round(V.reshape(4,4),4))\n"
   ]
  }
 ],
 "metadata": {
  "kernelspec": {
   "display_name": "base",
   "language": "python",
   "name": "python3"
  },
  "language_info": {
   "codemirror_mode": {
    "name": "ipython",
    "version": 3
   },
   "file_extension": ".py",
   "mimetype": "text/x-python",
   "name": "python",
   "nbconvert_exporter": "python",
   "pygments_lexer": "ipython3",
   "version": "3.13.5"
  }
 },
 "nbformat": 4,
 "nbformat_minor": 5
}
