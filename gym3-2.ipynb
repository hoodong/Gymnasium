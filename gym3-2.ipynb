{
 "cells": [
  {
   "cell_type": "markdown",
   "id": "2f42a8c2",
   "metadata": {},
   "source": [
    "벨만 방정식을 이용해 랜덤 정책을 평가 - FrozenLake 과업"
   ]
  },
  {
   "cell_type": "code",
   "execution_count": 6,
   "id": "ec887f1f",
   "metadata": {},
   "outputs": [],
   "source": [
    "import gymnasium as gym\n",
    "import numpy as np"
   ]
  },
  {
   "cell_type": "code",
   "execution_count": 10,
   "id": "e7c57754",
   "metadata": {},
   "outputs": [
    {
     "name": "stdout",
     "output_type": "stream",
     "text": [
      "랜덤정책의 가치함수\n",
      " [[0.0045 0.0042 0.0101 0.0041]\n",
      " [0.0067 0.     0.0263 0.    ]\n",
      " [0.0187 0.0576 0.107  0.    ]\n",
      " [0.     0.1304 0.3915 0.    ]]\n"
     ]
    }
   ],
   "source": [
    "def policy_evaluation(env, policy, gamma=0.9, theta=1e-8):\n",
    "    V = np.zeros(env.observation_space.n)  # Initialize value function to zeros\n",
    "    while True:\n",
    "        delta = 0  # Track maximum change in value\n",
    "        for state in range(env.observation_space.n):  # For each state\n",
    "            v = 0  # Initialize value for current state\n",
    "            # For each possible action and its probability under the policy\n",
    "            for action, action_prob in enumerate(policy[state]):\n",
    "                # For each possible outcome of taking that action\n",
    "                for state_prob, next_state, reward, done in env.P[state][action]:\n",
    "                    # Update value using Bellman equation\n",
    "                    v += action_prob * state_prob * (reward + gamma * V[next_state])\n",
    "            # Update maximum change\n",
    "            delta = max(delta, abs(v - V[state]))\n",
    "            V[state] = v  # Update value function\n",
    "        # Stop when value function changes very little\n",
    "        if delta < theta:\n",
    "            break\n",
    "    return V\n",
    "\n",
    "env = gym.make('FrozenLake-v1', render_mode='ansi', is_slippery=False)\n",
    "pi = np.ones([env.observation_space.n, env.action_space.n]) / env.action_space.n\n",
    "V = policy_evaluation(env, pi)\n",
    "print('랜덤정책의 가치함수\\n', np.round(V.reshape(4,4),4))\n"
   ]
  }
 ],
 "metadata": {
  "kernelspec": {
   "display_name": "base",
   "language": "python",
   "name": "python3"
  },
  "language_info": {
   "codemirror_mode": {
    "name": "ipython",
    "version": 3
   },
   "file_extension": ".py",
   "mimetype": "text/x-python",
   "name": "python",
   "nbconvert_exporter": "python",
   "pygments_lexer": "ipython3",
   "version": "3.13.5"
  }
 },
 "nbformat": 4,
 "nbformat_minor": 5
}
