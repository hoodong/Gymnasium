{
 "cells": [
  {
   "cell_type": "markdown",
   "id": "5b357f7d",
   "metadata": {},
   "source": [
    "2-1 FrozenLake 과업의 MDP 사이클 확인"
   ]
  },
  {
   "cell_type": "code",
   "execution_count": null,
   "id": "aa0934ea",
   "metadata": {
    "vscode": {
     "languageId": "plaintext"
    }
   },
   "outputs": [],
   "source": []
  }
 ],
 "metadata": {
  "language_info": {
   "name": "python"
  }
 },
 "nbformat": 4,
 "nbformat_minor": 5
}
