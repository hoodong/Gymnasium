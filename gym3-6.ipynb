{
 "cells": [
  {
   "cell_type": "markdown",
   "id": "2f42a8c2",
   "metadata": {},
   "source": [
    "3-5 FrozenLake에서 가치 반복 (스토케스틱 환경, 전이확률 수정)"
   ]
  },
  {
   "cell_type": "code",
   "execution_count": 1,
   "id": "ec887f1f",
   "metadata": {},
   "outputs": [],
   "source": [
    "import gymnasium as gym\n",
    "import numpy as np"
   ]
  },
  {
   "cell_type": "code",
   "execution_count": 2,
   "id": "e7c57754",
   "metadata": {},
   "outputs": [
    {
     "name": "stdout",
     "output_type": "stream",
     "text": [
      "최적 정책\n",
      " [[1 2 1 0]\n",
      " [1 0 1 0]\n",
      " [2 1 1 0]\n",
      " [0 2 2 0]]\n",
      "최적 가치함수\n",
      " [[0.3804 0.3589 0.4536 0.3589]\n",
      " [0.436  0.     0.5403 0.    ]\n",
      " [0.551  0.7108 0.7504 0.    ]\n",
      " [0.     0.8246 0.9533 0.    ]]\n"
     ]
    }
   ],
   "source": [
    "def value_iteration(env, gamma=0.9):\n",
    "    # Initialize value function and policy arrays\n",
    "    V = np.zeros(env.observation_space.n)  # Value function for each state\n",
    "    pi = np.zeros(env.observation_space.n, dtype=int)  # Policy for each state\n",
    "\n",
    "    # Value Iteration\n",
    "    while True:\n",
    "        delta = 0  # Track maximum change in value\n",
    "        for state in range(env.observation_space.n):  # For each state\n",
    "            q = np.zeros(env.action_space.n)  # Action values for current state\n",
    "            for action in range(env.action_space.n):\n",
    "                # Get transition probability, next state, reward, and terminal flag\n",
    "                for state_prob, next_state, reward, done in env.P[state][action]:\n",
    "                    # Calculate Q-value using Bellman equation\n",
    "                    q[action] += state_prob * (reward + gamma * V[next_state])\n",
    "            v = np.max(q)  # Take maximum Q-value as new state value\n",
    "            delta = max(delta, abs(V[state] - v))  # Update maximum change\n",
    "            V[state] = v  # Update value function\n",
    "        # Stop when value function converges\n",
    "        if delta < 1e-8:\n",
    "            break\n",
    "\n",
    "    # Policy Extraction\n",
    "    pi = np.zeros(env.observation_space.n, dtype=int)  # Initialize policy array\n",
    "    for state in range(env.observation_space.n):\n",
    "        q = np.zeros(env.action_space.n)  # Action values for current state\n",
    "        for action in range(env.action_space.n):\n",
    "            # Get transition probability, next state, reward, and terminal flag\n",
    "            for state_prob, next_state, reward, done in env.P[state][action]:\n",
    "            # Calculate Q-value for each action\n",
    "                q[action] += state_prob * (reward + gamma * V[next_state])\n",
    "        pi[state] = np.argmax(q)  # Choose action with maximum Q-value\n",
    "    return V, pi\n",
    "\n",
    "env = gym.make('FrozenLake-v1', render_mode='ansi', is_slippery=True)\n",
    "\n",
    "prob = [0.1,0.8,0.1]\n",
    "for state in range(env.observation_space.n):\n",
    "    for action in range(env.action_space.n):\n",
    "        if len(env.P[state][action]) == 3:\n",
    "            for i, trans in enumerate(env.P[state][action]):\n",
    "                env.P[state][action][i] = (prob[i], trans[1], trans[2], trans[3])\n",
    "                \n",
    "V, pi = value_iteration(env)\n",
    "print('최적 정책\\n', pi.astype(int).reshape(4,4))\n",
    "print('최적 가치함수\\n', np.round(V.reshape(4,4),4))\n"
   ]
  }
 ],
 "metadata": {
  "kernelspec": {
   "display_name": "base",
   "language": "python",
   "name": "python3"
  },
  "language_info": {
   "codemirror_mode": {
    "name": "ipython",
    "version": 3
   },
   "file_extension": ".py",
   "mimetype": "text/x-python",
   "name": "python",
   "nbconvert_exporter": "python",
   "pygments_lexer": "ipython3",
   "version": "3.13.5"
  }
 },
 "nbformat": 4,
 "nbformat_minor": 5
}
