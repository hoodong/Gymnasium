{
 "cells": [
  {
   "cell_type": "markdown",
   "id": "67d29268",
   "metadata": {},
   "source": [
    "MC 방법으로 정책 학습 ($\\epsilon$-greedy)\n",
    "Q1.최적 정책이 다름: 책에서는 s=0에서 [0.025,0.025,0.925,0.025]\n",
    "Q2.Q도 다름 "
   ]
  },
  {
   "cell_type": "code",
   "execution_count": 10,
   "id": "6e691de3",
   "metadata": {},
   "outputs": [
    {
     "name": "stdout",
     "output_type": "stream",
     "text": [
      "\n",
      "\u001b[41mS\u001b[0mFFF\n",
      "FHFH\n",
      "FFFH\n",
      "HFFG\n",
      "\n"
     ]
    }
   ],
   "source": [
    "import gymnasium as gym\n",
    "import numpy as np\n",
    "\n",
    "env = gym.make('FrozenLake-v1', render_mode='ansi')\n",
    "env.reset()\n",
    "print(env.render())"
   ]
  },
  {
   "cell_type": "code",
   "execution_count": 5,
   "id": "6ea42474",
   "metadata": {},
   "outputs": [
    {
     "name": "stdout",
     "output_type": "stream",
     "text": [
      "[[0, np.int64(0), 0.0], [4, np.int64(2), 0.0], [0, np.int64(2), 0.0], [1, np.int64(2), 0.0], [2, np.int64(1), 0.0], [6, np.int64(1), 0.0], [7, None, None]]\n"
     ]
    }
   ],
   "source": [
    "def generate_episode(env, policy):\n",
    "    episode = []\n",
    "    state, info = env.reset()\n",
    "\n",
    "    while True:\n",
    "        action = np.random.choice([0,1,2,3],1,p=policy[state])[0]\n",
    "        next_state, reward, terminated, truncated, info = env.step(action)\n",
    "        episode.append([state, action, reward])\n",
    "        state = next_state\n",
    "        if terminated or truncated:\n",
    "            episode.append([next_state,None,None])\n",
    "            break\n",
    "    return episode\n",
    "\n",
    "pi = [[0.25,0.25,0.25,0.25] for _ in range(env.observation_space.n)]\n",
    "e = generate_episode(env, pi)\n",
    "print(e)"
   ]
  },
  {
   "cell_type": "code",
   "execution_count": 6,
   "id": "193887e1",
   "metadata": {},
   "outputs": [
    {
     "name": "stdout",
     "output_type": "stream",
     "text": [
      "1\n"
     ]
    }
   ],
   "source": [
    "#greedy_select = lambda x: np.random.choice(np.flatnonzero(x == x.max()))\n",
    "greedy_select = lambda x: np.random.choice(np.argwhere(x == np.max(x)).flatten())\n",
    "a = greedy_select(np.array([0.1, 0.3, 0.2, 0.3]))\n",
    "print(a)"
   ]
  },
  {
   "cell_type": "code",
   "execution_count": 11,
   "id": "e915a499",
   "metadata": {},
   "outputs": [
    {
     "name": "stdout",
     "output_type": "stream",
     "text": [
      "optimal policy:\n",
      " [[np.float64(0.025), np.float64(0.025), np.float64(0.025), np.float64(0.925)], [np.float64(0.025), np.float64(0.025), np.float64(0.025), np.float64(0.925)], [np.float64(0.925), np.float64(0.025), np.float64(0.025), np.float64(0.025)], [np.float64(0.025), np.float64(0.025), np.float64(0.025), np.float64(0.925)], [np.float64(0.925), np.float64(0.025), np.float64(0.025), np.float64(0.025)], [0.25, 0.25, 0.25, 0.25], [np.float64(0.925), np.float64(0.025), np.float64(0.025), np.float64(0.025)], [0.25, 0.25, 0.25, 0.25], [np.float64(0.025), np.float64(0.025), np.float64(0.025), np.float64(0.925)], [np.float64(0.025), np.float64(0.925), np.float64(0.025), np.float64(0.025)], [np.float64(0.025), np.float64(0.025), np.float64(0.925), np.float64(0.025)], [0.25, 0.25, 0.25, 0.25], [0.25, 0.25, 0.25, 0.25], [np.float64(0.025), np.float64(0.025), np.float64(0.925), np.float64(0.025)], [np.float64(0.025), np.float64(0.025), np.float64(0.925), np.float64(0.025)], [0.25, 0.25, 0.25, 0.25]]\n",
      "optimal Q:\n",
      " [[0.026 0.022 0.03  0.063]\n",
      " [0.025 0.046 0.027 0.07 ]\n",
      " [0.069 0.033 0.023 0.028]\n",
      " [0.    0.    0.    0.016]\n",
      " [0.062 0.011 0.    0.005]\n",
      " [0.    0.    0.    0.   ]\n",
      " [0.125 0.068 0.089 0.   ]\n",
      " [0.    0.    0.    0.   ]\n",
      " [0.    0.    0.    0.193]\n",
      " [0.    0.233 0.    0.038]\n",
      " [0.139 0.176 0.233 0.078]\n",
      " [0.    0.    0.    0.   ]\n",
      " [0.    0.    0.    0.   ]\n",
      " [0.    0.    0.58  0.124]\n",
      " [0.    0.163 0.665 0.6  ]\n",
      " [0.    0.    0.    0.   ]]\n"
     ]
    }
   ],
   "source": [
    "def epsilon_greedy_policy(env, gamma=0.99, epsilon=0.1):\n",
    "    policy =[[0.25,0.25,0.25,0.25] for _ in range(env.observation_space.n)]\n",
    "    #policy = np.ones((env.observation_space.n, env.action_space.n)) / env.action_space.n\n",
    "    Q = np.zeros((env.observation_space.n, env.action_space.n))\n",
    "    returns = [[[] for _ in range(env.action_space.n)] for _ in range(env.observation_space.n)]\n",
    "\n",
    "    for i in range(1000):\n",
    "        episode = generate_episode(env, policy)\n",
    "        G = 0 # return\n",
    "        for t in range(len(episode)-2,-1,-1):\n",
    "\n",
    "            # update Q\n",
    "            s, a, r = episode[t]\n",
    "            G = gamma * G + r\n",
    "            returns[s][a].append(G)\n",
    "            Q[s][a] = np.mean(returns[s][a])\n",
    "            amax = greedy_select(Q[s])\n",
    "\n",
    "            # epsilon-greedy policy\n",
    "            for b in range(env.action_space.n):\n",
    "                if b == amax: # greedy action\n",
    "                    policy[s][b] = 1 - epsilon + (epsilon / env.action_space.n)\n",
    "                else: # non-greedy action\n",
    "                    policy[s][b] = epsilon / env.action_space.n\n",
    "    return policy, Q\n",
    "\n",
    "pi, Q = epsilon_greedy_policy(env)\n",
    "np.set_printoptions(precision=3)\n",
    "print('optimal policy:\\n',pi)\n",
    "print('optimal Q:\\n',Q)\n",
    "\n",
    "env.close()\n"
   ]
  }
 ],
 "metadata": {
  "kernelspec": {
   "display_name": "base",
   "language": "python",
   "name": "python3"
  },
  "language_info": {
   "codemirror_mode": {
    "name": "ipython",
    "version": 3
   },
   "file_extension": ".py",
   "mimetype": "text/x-python",
   "name": "python",
   "nbconvert_exporter": "python",
   "pygments_lexer": "ipython3",
   "version": "3.13.0"
  }
 },
 "nbformat": 4,
 "nbformat_minor": 5
}
