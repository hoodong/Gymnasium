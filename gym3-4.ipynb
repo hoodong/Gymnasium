{
 "cells": [
  {
   "cell_type": "markdown",
   "id": "2f42a8c2",
   "metadata": {},
   "source": [
    "3-4 FrozenLake의 MDP 확인"
   ]
  },
  {
   "cell_type": "code",
   "execution_count": 1,
   "id": "ec887f1f",
   "metadata": {},
   "outputs": [],
   "source": [
    "import gymnasium as gym\n",
    "import pprint"
   ]
  },
  {
   "cell_type": "code",
   "execution_count": null,
   "id": "e7c57754",
   "metadata": {},
   "outputs": [
    {
     "name": "stdout",
     "output_type": "stream",
     "text": [
      "Deterministic MDP\n",
      "{0: [(1.0, 0, 0.0, False)],\n",
      " 1: [(1.0, 4, 0.0, False)],\n",
      " 2: [(1.0, 1, 0.0, False)],\n",
      " 3: [(1.0, 0, 0.0, False)]}\n",
      "Stochastic MDP\n",
      "{0: [(0.3333333333333333, 0, 0.0, False),\n",
      "     (0.3333333333333333, 0, 0.0, False),\n",
      "     (0.3333333333333333, 4, 0.0, False)],\n",
      " 1: [(0.3333333333333333, 0, 0.0, False),\n",
      "     (0.3333333333333333, 4, 0.0, False),\n",
      "     (0.3333333333333333, 1, 0.0, False)],\n",
      " 2: [(0.3333333333333333, 4, 0.0, False),\n",
      "     (0.3333333333333333, 1, 0.0, False),\n",
      "     (0.3333333333333333, 0, 0.0, False)],\n",
      " 3: [(0.3333333333333333, 1, 0.0, False),\n",
      "     (0.3333333333333333, 0, 0.0, False),\n",
      "     (0.3333333333333333, 0, 0.0, False)]}\n"
     ]
    }
   ],
   "source": [
    "# Deterministic MDP\n",
    "env = gym.make(\"FrozenLake-v1\", is_slippery=False)\n",
    "print('Deterministic MDP')\n",
    "pprint.pprint(env.P)\n",
    "\n",
    "# Stochastic MDP\n",
    "env = gym.make(\"FrozenLake-v1\", is_slippery=True)\n",
    "print('Stochastic MDP')\n",
    "pprint.pprint(env.P)\n",
    "\n"
   ]
  },
  {
   "cell_type": "code",
   "execution_count": 4,
   "id": "39f29140",
   "metadata": {},
   "outputs": [
    {
     "name": "stdout",
     "output_type": "stream",
     "text": [
      "{0: [(0.3333333333333333, 0, 0.0, False),\n",
      "     (0.3333333333333333, 0, 0.0, False),\n",
      "     (0.3333333333333333, 4, 0.0, False)],\n",
      " 1: [(0.3333333333333333, 0, 0.0, False),\n",
      "     (0.3333333333333333, 4, 0.0, False),\n",
      "     (0.3333333333333333, 1, 0.0, False)],\n",
      " 2: [(0.3333333333333333, 4, 0.0, False),\n",
      "     (0.3333333333333333, 1, 0.0, False),\n",
      "     (0.3333333333333333, 0, 0.0, False)],\n",
      " 3: [(0.3333333333333333, 1, 0.0, False),\n",
      "     (0.3333333333333333, 0, 0.0, False),\n",
      "     (0.3333333333333333, 0, 0.0, False)]}\n"
     ]
    }
   ],
   "source": [
    "pprint.pprint(env.P[0])"
   ]
  }
 ],
 "metadata": {
  "kernelspec": {
   "display_name": "base",
   "language": "python",
   "name": "python3"
  },
  "language_info": {
   "codemirror_mode": {
    "name": "ipython",
    "version": 3
   },
   "file_extension": ".py",
   "mimetype": "text/x-python",
   "name": "python",
   "nbconvert_exporter": "python",
   "pygments_lexer": "ipython3",
   "version": "3.13.5"
  }
 },
 "nbformat": 4,
 "nbformat_minor": 5
}
