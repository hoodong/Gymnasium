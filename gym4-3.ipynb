{
 "cells": [
  {
   "cell_type": "markdown",
   "id": "f5b634ae",
   "metadata": {},
   "source": [
    "Multi-armed badit에서 순수 탐험과 $\\epsilon$-greedy 정책의 기대이득"
   ]
  },
  {
   "cell_type": "code",
   "execution_count": 63,
   "id": "85d72f25",
   "metadata": {},
   "outputs": [],
   "source": [
    "import numpy as np\n",
    "import matplotlib.pyplot as plt"
   ]
  },
  {
   "cell_type": "code",
   "execution_count": 64,
   "id": "630ba5d6",
   "metadata": {},
   "outputs": [],
   "source": [
    "def simulate_pull_bandit(handle, visit, win):\n",
    "    visit[handle] += 1\n",
    "    win[handle] += 1 if np.random.rand() < arm_prob[handle] else 0"
   ]
  },
  {
   "cell_type": "code",
   "execution_count": 65,
   "id": "440dcf03",
   "metadata": {},
   "outputs": [],
   "source": [
    "def exploration():\n",
    "    visit = np.ones(num_arms)\n",
    "    win = np.ones(num_arms)\n",
    "    for t in range(num_pulls):\n",
    "        handle = np.random.randint(num_arms)\n",
    "        simulate_pull_bandit(handle, visit, win)\n",
    "    return visit, win\n",
    "\n",
    "def epsilon_greedy(epsilon):\n",
    "    visit = np.ones(num_arms)\n",
    "    win = np.ones(num_arms)\n",
    "    for t in range(num_pulls):\n",
    "        if np.random.rand() < epsilon:\n",
    "            handle = np.random.randint(num_arms)\n",
    "        else:\n",
    "            q = np.array([win[i]/visit[i] for i in range(num_arms)])\n",
    "            handle = np.random.choice(np.where(q==np.max(q))[0])\n",
    "        simulate_pull_bandit(handle, visit, win)\n",
    "    return visit, win\n"
   ]
  },
  {
   "cell_type": "code",
   "execution_count": 66,
   "id": "084d313c",
   "metadata": {},
   "outputs": [
    {
     "name": "stdout",
     "output_type": "stream",
     "text": [
      "순수 탐험 정책\n",
      "- 승률(%): ['0.4038', '0.1941', '0.1084', '0.4985', '0.2845', '0.6052']\n",
      "- 수익($): ['-320', '-1024', '-1265', '-5', '-709', '367']\n",
      "- 총수익($): -2956.0\n",
      "epsilon 탐험 정책\n",
      "- 승률(%): ['0.4294', '0.2312', '0.0520', '0.5000', '0.3260', '0.5949']\n",
      "- 수익($): ['-25', '-100', '-155', '0', '-63', '1733']\n",
      "- 총수익($): 1390.0\n"
     ]
    }
   ],
   "source": [
    "num_arms = 6\n",
    "arm_prob = [0.4, 0.2, 0.1, 0.5, 0.3, 0.6]\n",
    "num_pulls = 10000\n",
    "\n",
    "visit, win = exploration()\n",
    "print('순수 탐험 정책')\n",
    "print('- 승률(%):', [f'{win[i]/visit[i]:.4f}' for i in range(num_arms)])\n",
    "print('- 수익($):', [f'{2*win[i]-visit[i]:.0f}' for i in range(num_arms)])  # 2*승리횟수 - 시도횟수\n",
    "print('- 총수익($):', sum([2*win[i]-visit[i] for i in range(num_arms)]))\n",
    "\n",
    "visit, win = epsilon_greedy(0.1)\n",
    "print('epsilon 탐험 정책')\n",
    "print('- 승률(%):', [f'{win[i]/visit[i]:.4f}' for i in range(num_arms)])\n",
    "print('- 수익($):', [f'{2*win[i]-visit[i]:.0f}' for i in range(num_arms)])  # 2*승리횟수 - 시도횟수\n",
    "print('- 총수익($):', sum([2*win[i]-visit[i] for i in range(num_arms)]))\n"
   ]
  }
 ],
 "metadata": {
  "kernelspec": {
   "display_name": "base",
   "language": "python",
   "name": "python3"
  },
  "language_info": {
   "codemirror_mode": {
    "name": "ipython",
    "version": 3
   },
   "file_extension": ".py",
   "mimetype": "text/x-python",
   "name": "python",
   "nbconvert_exporter": "python",
   "pygments_lexer": "ipython3",
   "version": "3.13.0"
  }
 },
 "nbformat": 4,
 "nbformat_minor": 5
}
