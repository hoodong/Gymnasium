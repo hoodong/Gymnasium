{
 "cells": [
  {
   "cell_type": "markdown",
   "id": "f5b634ae",
   "metadata": {},
   "source": [
    "Multi-armed badit에서 순수 탐험과 $\\epsilon$-\n",
    "This sentence uses `$` delimiters to show math inline: $\\sqrt{3x-1}+(1+x)^2$"
   ]
  },
  {
   "cell_type": "code",
   "execution_count": null,
   "id": "85d72f25",
   "metadata": {},
   "outputs": [],
   "source": []
  }
 ],
 "metadata": {
  "language_info": {
   "name": "python"
  }
 },
 "nbformat": 4,
 "nbformat_minor": 5
}
