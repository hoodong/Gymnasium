{
 "cells": [
  {
   "cell_type": "markdown",
   "id": "67d29268",
   "metadata": {},
   "source": [
    "MC 방법으로 FrozenLake에서 정책 평가 - 상태가치 함수 계산\n",
    "Q. 책에있는 결과와 다르게 나옴"
   ]
  },
  {
   "cell_type": "code",
   "execution_count": 33,
   "id": "6e691de3",
   "metadata": {},
   "outputs": [],
   "source": [
    "import gymnasium as gym\n",
    "import numpy as np\n",
    "\n",
    "env = gym.make('FrozenLake-v1', render_mode='ansi')\n",
    "pi1 = [[0.25,0.25,0.25,0.25] for i in range(env.observation_space.n)]\n",
    "pi2 = [[0,0.5,0.5,0] for i in range(env.observation_space.n)]\n",
    "np.set_printoptions(precision=5)"
   ]
  },
  {
   "cell_type": "code",
   "execution_count": 34,
   "id": "6ea42474",
   "metadata": {},
   "outputs": [
    {
     "name": "stdout",
     "output_type": "stream",
     "text": [
      "[[0, np.int64(3), 0.0], [1, np.int64(1), 0.0], [0, np.int64(1), 0.0], [4, np.int64(0), 0.0], [8, np.int64(0), 0.0], [4, np.int64(1), 0.0], [4, np.int64(2), 0.0], [8, np.int64(2), 0.0], [9, np.int64(1), 0.0], [8, np.int64(3), 0.0], [8, np.int64(0), 0.0], [12, None, None]]\n"
     ]
    }
   ],
   "source": [
    "def generate_episode(env, policy):\n",
    "    episode = []\n",
    "    state, info = env.reset()\n",
    "\n",
    "    while True:\n",
    "        action = np.random.choice([0,1,2,3],1,p=policy[state])[0]\n",
    "        next_state, reward, terminated, truncated, info = env.step(action)\n",
    "        episode.append([state, action, reward])\n",
    "        state = next_state\n",
    "        if terminated or truncated:\n",
    "            episode.append([next_state,None,None])\n",
    "            break\n",
    "    return episode\n",
    "\n",
    "\n",
    "e1 = generate_episode(env, pi1)\n",
    "print(e1)"
   ]
  },
  {
   "cell_type": "code",
   "execution_count": 35,
   "id": "e915a499",
   "metadata": {},
   "outputs": [
    {
     "name": "stdout",
     "output_type": "stream",
     "text": [
      "[[0.01393 0.01114 0.02458 0.01394]\n",
      " [0.01756 0.      0.0345  0.     ]\n",
      " [0.01397 0.05477 0.10885 0.     ]\n",
      " [0.      0.17019 0.44651 0.     ]]\n",
      "[[0.02093 0.01798 0.02596 0.01324]\n",
      " [0.03129 0.      0.05635 0.     ]\n",
      " [0.06789 0.14128 0.19788 0.     ]\n",
      " [0.      0.28825 0.56973 0.     ]]\n"
     ]
    }
   ],
   "source": [
    "def policy_evaluation_by_state_value(env, policy, gamma=0.99):\n",
    "    V = np.zeros(env.observation_space.n)\n",
    "    returns = [[] for s in range(env.observation_space.n)]\n",
    "    for i in range(1000):\n",
    "        episode = generate_episode(env, policy)\n",
    "        G = 0 # return\n",
    "        for t in range(len(episode)-2,-1,-1):\n",
    "            s, a, r = episode[t]\n",
    "            G = gamma * G + r\n",
    "            returns[s].append(G)\n",
    "            V[s] = np.mean(returns[s])\n",
    "    return V\n",
    "\n",
    "V1 = policy_evaluation_by_state_value(env, pi1)\n",
    "print(V1.reshape([4,4]))\n",
    "\n",
    "V2 = policy_evaluation_by_state_value(env, pi2)\n",
    "print(V2.reshape([4,4]))\n",
    "\n",
    "env.close()\n"
   ]
  },
  {
   "cell_type": "code",
   "execution_count": 36,
   "id": "62565bcf",
   "metadata": {},
   "outputs": [],
   "source": [
    "env = gym.make('FrozenLake-v1', render_mode='ansi')\n",
    "pi = np.ones([env.observation_space.n, env.action_space.n]) / env.action_space.n"
   ]
  }
 ],
 "metadata": {
  "kernelspec": {
   "display_name": "base",
   "language": "python",
   "name": "python3"
  },
  "language_info": {
   "codemirror_mode": {
    "name": "ipython",
    "version": 3
   },
   "file_extension": ".py",
   "mimetype": "text/x-python",
   "name": "python",
   "nbconvert_exporter": "python",
   "pygments_lexer": "ipython3",
   "version": "3.13.0"
  }
 },
 "nbformat": 4,
 "nbformat_minor": 5
}
