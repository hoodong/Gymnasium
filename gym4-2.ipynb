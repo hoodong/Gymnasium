{
 "cells": [
  {
   "cell_type": "markdown",
   "id": "67d29268",
   "metadata": {},
   "source": [
    "CartPole에서 에피소드 생성"
   ]
  },
  {
   "cell_type": "code",
   "execution_count": 2,
   "id": "6e691de3",
   "metadata": {},
   "outputs": [],
   "source": [
    "import gymnasium as gym\n",
    "import matplotlib.pyplot as plt\n",
    "import time"
   ]
  },
  {
   "cell_type": "code",
   "execution_count": null,
   "id": "6ea42474",
   "metadata": {},
   "outputs": [
    {
     "ename": "SyntaxError",
     "evalue": "invalid syntax (1240986034.py, line 27)",
     "output_type": "error",
     "traceback": [
      "  \u001b[36mCell\u001b[39m\u001b[36m \u001b[39m\u001b[32mIn[3]\u001b[39m\u001b[32m, line 27\u001b[39m\n\u001b[31m    \u001b[39m\u001b[31mepisode = generate_episode(env``)\u001b[39m\n                                  ^\n\u001b[31mSyntaxError\u001b[39m\u001b[31m:\u001b[39m invalid syntax\n"
     ]
    }
   ],
   "source": [
    "def generate_episode(env):\n",
    "    episode = []\n",
    "    state, info = env.reset()\n",
    "\n",
    "    image = env.render()\n",
    "    plt.imshow(image)\n",
    "    plt.show()\n",
    "    time.sleep(0.1)\n",
    "\n",
    "    while True:\n",
    "        action = 0 # always go left\n",
    "        next_state, reward, terminated, truncated, info = env.step(action)\n",
    "        episode.append([state, action, reward])\n",
    "        state = next_state\n",
    "\n",
    "        image = env.render()\n",
    "        plt.imshow(image)\n",
    "        plt.show()\n",
    "        time.sleep(0.1)\n",
    "\n",
    "        if terminated or truncated:\n",
    "            episode.append([next_state,None,None])\n",
    "            break\n",
    "    return episode\n",
    "\n",
    "env = gym.make('CartPole-v1', render_mode='rgb_array')\n",
    "episode = generate_episode(env)\n",
    "print('항상 왼쪽으로 움직이는 정책으로 생성한 에피소드\\n', episode)\n",
    "for v in episode:\n",
    "    print(v)\n",
    "env.close()"
   ]
  }
 ],
 "metadata": {
  "kernelspec": {
   "display_name": "base",
   "language": "python",
   "name": "python3"
  },
  "language_info": {
   "codemirror_mode": {
    "name": "ipython",
    "version": 3
   },
   "file_extension": ".py",
   "mimetype": "text/x-python",
   "name": "python",
   "nbconvert_exporter": "python",
   "pygments_lexer": "ipython3",
   "version": "3.13.5"
  }
 },
 "nbformat": 4,
 "nbformat_minor": 5
}
