{
 "cells": [
  {
   "cell_type": "markdown",
   "id": "2f42a8c2",
   "metadata": {},
   "source": [
    "벨만 방정식을 이용해 랜덤 정책을 평가 - FrozenLake 과업"
   ]
  },
  {
   "cell_type": "code",
   "execution_count": 2,
   "id": "ec887f1f",
   "metadata": {},
   "outputs": [],
   "source": [
    "import gymnasium as gym\n",
    "import numpy as np"
   ]
  },
  {
   "cell_type": "code",
   "execution_count": null,
   "id": "e7c57754",
   "metadata": {},
   "outputs": [],
   "source": [
    "gamma = 0.9 \n",
    "def policy_evaluation(env, policy, theta=1e-8):\n",
    "    V = np.zeros(env.observation_space.n)\n",
    "    while True:\n",
    "        delta = 0\n",
    "        for state in range(env.observation_space.n):\n",
    "            v = 0\n",
    "            for action, action_prob in enumerate(policy[state]):\n",
    "                for state_prob, next_state, reward, done in env.P[state][action]:\n",
    "                    v += action_prob * state_prob * (reward + gamma * V[next_state])\n",
    "            delta = max(delta, abs(v - V[state]))\n",
    "            V[state] = v\n",
    "        if delta < theta:\n",
    "            break\n",
    "    return V"
   ]
  }
 ],
 "metadata": {
  "kernelspec": {
   "display_name": "base",
   "language": "python",
   "name": "python3"
  },
  "language_info": {
   "codemirror_mode": {
    "name": "ipython",
    "version": 3
   },
   "file_extension": ".py",
   "mimetype": "text/x-python",
   "name": "python",
   "nbconvert_exporter": "python",
   "pygments_lexer": "ipython3",
   "version": "3.13.5"
  }
 },
 "nbformat": 4,
 "nbformat_minor": 5
}
