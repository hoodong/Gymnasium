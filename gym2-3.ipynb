{
 "cells": [
  {
   "cell_type": "markdown",
   "id": "d686a7aa",
   "metadata": {},
   "source": [
    "2-3 ForzenLake에서 최적 정책의 기대 이득 추정"
   ]
  },
  {
   "cell_type": "code",
   "execution_count": null,
   "id": "9060218a",
   "metadata": {},
   "outputs": [],
   "source": [
    "import gymnasium as gym\n",
    "import numpy as np"
   ]
  },
  {
   "cell_type": "code",
   "execution_count": null,
   "id": "7d241bc9",
   "metadata": {},
   "outputs": [],
   "source": [
    "n = 10000\n",
    "pi = np.array([[0,0.5,0.5,0],[0,0,1,0],[0,1,0,0],[1,0,0,0],\n",
    "              [0,1,0,0],[0,0,0,0],[0,1,0,0],[0,0,0,0],\n",
    "              [0,0,1,0],[0,0.5,0.5,0],[0,1,0,0],[0,0,0,0],\n",
    "              [0,0,0,0],[0,0,1,0],[0,0,1,0],[0,0,0,0]])\n"
   ]
  },
  {
   "cell_type": "code",
   "execution_count": null,
   "id": "d5a02357",
   "metadata": {},
   "outputs": [],
   "source": [
    "env = gym.make(\"FrozenLake-v1\", render_mode=\"ansi\", is_slippery=False)\n",
    "env = gym.wrappers.TimeLimit(env, max_episode_steps=100)\n",
    "episodes = []\n",
    "\n",
    "for _ in range(n):\n",
    "    epi = []\n",
    "    state, info = env.reset()\n",
    "    epi.append([None, state])\n",
    "    while True:\n",
    "        action = np.random.choice([0,1,2,3], 1, p=pi[state])[0]\n",
    "        state, reward, terminated, truncated, info = env.step(action)\n",
    "        epi.append([action, reward, state])\n",
    "        if terminated or truncated:\n",
    "            break\n",
    "    episodes.append(epi)\n",
    "\n",
    "env.close()\n",
    "\n",
    "expected_return = sum([epi[-1][1] for epi in episodes]) / n\n",
    "print('Expected return =', expected_return)"
   ]
  }
 ],
 "metadata": {
  "kernelspec": {
   "display_name": "base",
   "language": "python",
   "name": "python3"
  },
  "language_info": {
   "codemirror_mode": {
    "name": "ipython",
    "version": 3
   },
   "file_extension": ".py",
   "mimetype": "text/x-python",
   "name": "python",
   "nbconvert_exporter": "python",
   "pygments_lexer": "ipython3",
   "version": "3.13.5"
  }
 },
 "nbformat": 4,
 "nbformat_minor": 5
}
