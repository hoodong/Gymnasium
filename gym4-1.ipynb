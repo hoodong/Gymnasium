{
 "cells": [
  {
   "cell_type": "markdown",
   "id": "67d29268",
   "metadata": {},
   "source": [
    "FrozenLake에서 에피소드 생성"
   ]
  },
  {
   "cell_type": "code",
   "execution_count": 24,
   "id": "6e691de3",
   "metadata": {},
   "outputs": [],
   "source": [
    "import gymnasium as gym\n",
    "import numpy as np"
   ]
  },
  {
   "cell_type": "code",
   "execution_count": null,
   "id": "6ea42474",
   "metadata": {},
   "outputs": [
    {
     "name": "stdout",
     "output_type": "stream",
     "text": [
      "랜덤정책으로 생성한 에피소드\n",
      " [[0, np.int64(0), 0.0], [0, np.int64(0), 0.0], [0, np.int64(0), 0.0], [4, np.int64(0), 0.0], [4, np.int64(0), 0.0], [8, np.int64(0), 0.0], [4, np.int64(0), 0.0], [8, np.int64(0), 0.0], [12, None, None]]\n"
     ]
    }
   ],
   "source": [
    "def generate_episode(env, policy):\n",
    "    episode = []\n",
    "    state, info = env.reset()\n",
    "\n",
    "    while True:\n",
    "        action = np.random.choice([0,1,2,3],1,p=policy[state])[0]\n",
    "        next_state, reward, terminated, truncated, info = env.step(action)\n",
    "        episode.append([state, action, reward])\n",
    "        state = next_state\n",
    "        if terminated or truncated:\n",
    "            episode.append([next_state,None,None])\n",
    "            break\n",
    "    return episode\n",
    "\n",
    "env = gym.make('FrozenLake-v1', render_mode='ansi')\n",
    "pi = np.ones([env.observation_space.n, env.action_space.n]) / env.action_space.n\n",
    "\n",
    "episode = generate_episode(env, pi)\n",
    "print('랜덤정책으로 생성한 에피소드\\n', episode)\n",
    "env.close()"
   ]
  }
 ],
 "metadata": {
  "kernelspec": {
   "display_name": "base",
   "language": "python",
   "name": "python3"
  },
  "language_info": {
   "codemirror_mode": {
    "name": "ipython",
    "version": 3
   },
   "file_extension": ".py",
   "mimetype": "text/x-python",
   "name": "python",
   "nbconvert_exporter": "python",
   "pygments_lexer": "ipython3",
   "version": "3.13.5"
  }
 },
 "nbformat": 4,
 "nbformat_minor": 5
}
